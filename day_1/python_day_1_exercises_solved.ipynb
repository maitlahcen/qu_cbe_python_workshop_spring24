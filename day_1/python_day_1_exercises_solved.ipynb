{
 "cells": [
  {
   "cell_type": "markdown",
   "metadata": {},
   "source": [
    "# QU CBE Python Workshop - Spring 2024\n",
    "## Core Python - Exercises with solutions\n",
    "**Mohammed Ait Lahcen, Department of Finance and Economics, College of Business and Economics, Qatar University**"
   ]
  },
  {
   "cell_type": "markdown",
   "metadata": {},
   "source": [
    "In this notebook I provide several exercises to apply some of the notions we learned during the first tutorial."
   ]
  },
  {
   "cell_type": "markdown",
   "metadata": {},
   "source": [
    "## Exercise 1"
   ]
  },
  {
   "cell_type": "markdown",
   "metadata": {},
   "source": [
    "How can you simplify the following nested conditional statements?"
   ]
  },
  {
   "cell_type": "code",
   "execution_count": 7,
   "metadata": {},
   "outputs": [
    {
     "name": "stdin",
     "output_type": "stream",
     "text": [
      " 5\n"
     ]
    },
    {
     "name": "stdout",
     "output_type": "stream",
     "text": [
      "Lost it\n"
     ]
    }
   ],
   "source": [
    "a = input()\n",
    "a = float(a)\n",
    "\n",
    "if a > -0.5:\n",
    "    if a < 0.5:\n",
    "        print(\"Got it\")\n",
    "    else:\n",
    "        print(\"Lost it\")\n",
    "else:\n",
    "    print(\"Lost it\")"
   ]
  },
  {
   "cell_type": "markdown",
   "metadata": {},
   "source": [
    "### Solution"
   ]
  },
  {
   "cell_type": "code",
   "execution_count": 8,
   "metadata": {},
   "outputs": [
    {
     "name": "stdin",
     "output_type": "stream",
     "text": [
      " 5\n"
     ]
    },
    {
     "name": "stdout",
     "output_type": "stream",
     "text": [
      "Lost it\n"
     ]
    }
   ],
   "source": [
    "a = input()\n",
    "a = float(a)\n",
    "\n",
    "if 0.5 > a > -0.5:\n",
    "    print(\"Got it\")\n",
    "else:\n",
    "    print(\"Lost it\")"
   ]
  },
  {
   "cell_type": "markdown",
   "metadata": {},
   "source": [
    "## Exercise 2"
   ]
  },
  {
   "cell_type": "markdown",
   "metadata": {},
   "source": [
    "Write a nested `for` loop to visit all elements of the following nested list:"
   ]
  },
  {
   "cell_type": "code",
   "execution_count": 9,
   "metadata": {},
   "outputs": [],
   "source": [
    "l = [[\"a\", \"b\", \"c\"], [\"d\", \"e\", \"f\"], [\"g\", \"h\"]]"
   ]
  },
  {
   "cell_type": "markdown",
   "metadata": {},
   "source": [
    "### Solution"
   ]
  },
  {
   "cell_type": "code",
   "execution_count": 10,
   "metadata": {},
   "outputs": [
    {
     "name": "stdout",
     "output_type": "stream",
     "text": [
      "a\n",
      "b\n",
      "c\n",
      "d\n",
      "e\n",
      "f\n",
      "g\n",
      "h\n"
     ]
    }
   ],
   "source": [
    "for i in l: \n",
    "    for j in range(len(i)):\n",
    "        print(i[j])"
   ]
  },
  {
   "cell_type": "markdown",
   "metadata": {},
   "source": [
    "## Exercise 3"
   ]
  },
  {
   "cell_type": "markdown",
   "metadata": {},
   "source": [
    "Rewrite the nested list comprehension `q` by using standard `for` loops instead:"
   ]
  },
  {
   "cell_type": "code",
   "execution_count": 11,
   "metadata": {},
   "outputs": [],
   "source": [
    "l = [r**2 for r in [10**i for i in range(5)]]"
   ]
  },
  {
   "cell_type": "markdown",
   "metadata": {},
   "source": [
    "### Solution"
   ]
  },
  {
   "cell_type": "code",
   "execution_count": 12,
   "metadata": {},
   "outputs": [
    {
     "name": "stdout",
     "output_type": "stream",
     "text": [
      "[1, 100, 10000, 1000000, 100000000]\n"
     ]
    }
   ],
   "source": [
    "l = []\n",
    "\n",
    "for i in range(5):\n",
    "    x = (10 ** i) ** 2\n",
    "    l.append(x)\n",
    "\n",
    "print(l)"
   ]
  },
  {
   "cell_type": "markdown",
   "metadata": {},
   "source": [
    "## Exercise 4"
   ]
  },
  {
   "cell_type": "markdown",
   "metadata": {},
   "source": [
    "Given two numeric lists or tuples `x_vals` and `y_vals` of equal length, compute their inner product using `zip()`"
   ]
  },
  {
   "cell_type": "code",
   "execution_count": 13,
   "metadata": {},
   "outputs": [],
   "source": [
    "x_vals = [1, 2, 3]\n",
    "y_vals = [1, 1, 1]\r\n"
   ]
  },
  {
   "cell_type": "markdown",
   "metadata": {},
   "source": [
    "### Solution"
   ]
  },
  {
   "cell_type": "code",
   "execution_count": 14,
   "metadata": {},
   "outputs": [
    {
     "data": {
      "text/plain": [
       "6"
      ]
     },
     "execution_count": 14,
     "metadata": {},
     "output_type": "execute_result"
    }
   ],
   "source": [
    "sum([x * y for x, y in zip(x_vals, y_vals)])"
   ]
  },
  {
   "cell_type": "markdown",
   "metadata": {},
   "source": [
    "## Exercise 5"
   ]
  },
  {
   "cell_type": "markdown",
   "metadata": {},
   "source": [
    "Count the number of even numbers in 0,…,99 in one line using range and list comprehensions."
   ]
  },
  {
   "cell_type": "markdown",
   "metadata": {},
   "source": [
    "### Solution"
   ]
  },
  {
   "cell_type": "code",
   "execution_count": 15,
   "metadata": {},
   "outputs": [
    {
     "data": {
      "text/plain": [
       "50"
      ]
     },
     "execution_count": 15,
     "metadata": {},
     "output_type": "execute_result"
    }
   ],
   "source": [
    "sum([x % 2 == 0 for x in range(100)])"
   ]
  },
  {
   "cell_type": "markdown",
   "metadata": {},
   "source": [
    "## Exercise 6"
   ]
  },
  {
   "cell_type": "markdown",
   "metadata": {},
   "source": [
    "Count the number of pairs `(a, b)` such that both `a` and `b` are even."
   ]
  },
  {
   "cell_type": "code",
   "execution_count": 16,
   "metadata": {},
   "outputs": [],
   "source": [
    "pairs = ((2, 5), (4, 2), (9, 8), (12, 10))"
   ]
  },
  {
   "cell_type": "markdown",
   "metadata": {},
   "source": [
    "### Solution"
   ]
  },
  {
   "cell_type": "code",
   "execution_count": 17,
   "metadata": {},
   "outputs": [
    {
     "data": {
      "text/plain": [
       "2"
      ]
     },
     "execution_count": 17,
     "metadata": {},
     "output_type": "execute_result"
    }
   ],
   "source": [
    "sum([x % 2 == 0 and y % 2 == 0 for x, y in pairs])"
   ]
  },
  {
   "cell_type": "markdown",
   "metadata": {},
   "source": [
    "## Exercise 7"
   ]
  },
  {
   "cell_type": "markdown",
   "metadata": {},
   "source": [
    "Write a function that takes a string as an argument and returns the number of capital letters in the string.\n",
    "\r\n"
   ]
  },
  {
   "cell_type": "markdown",
   "metadata": {},
   "source": [
    "### Solution"
   ]
  },
  {
   "cell_type": "code",
   "execution_count": 18,
   "metadata": {},
   "outputs": [
    {
     "data": {
      "text/plain": [
       "3"
      ]
     },
     "execution_count": 18,
     "metadata": {},
     "output_type": "execute_result"
    }
   ],
   "source": [
    "def f(string):\n",
    "    count = 0\n",
    "    for letter in string:\n",
    "        if letter == letter.upper() and letter.isalpha():\n",
    "            count += 1\n",
    "    return count\n",
    "\n",
    "f('It Rains in Doha')"
   ]
  },
  {
   "cell_type": "markdown",
   "metadata": {},
   "source": [
    "## Exercise 8"
   ]
  },
  {
   "cell_type": "markdown",
   "metadata": {},
   "source": [
    "Write a code that approximates $\\pi$ by computing the sum:\n",
    "$$\n",
    "\\pi \\sim 4 \\sum_{k=0}^n \\frac{(-1)^k}{2 k +1}\n",
    "$$\n",
    "\n",
    "Compute the approximation error for different values of n (e.g. 100, 1'000, 10'000) by comparing the result with the Python $\\pi$ function."
   ]
  },
  {
   "cell_type": "markdown",
   "metadata": {},
   "source": [
    "### Solution"
   ]
  },
  {
   "cell_type": "markdown",
   "metadata": {},
   "source": [
    "We can write a function that takes $n$ as argument and returns the approximation of $\\pi$ according to the formula above:"
   ]
  },
  {
   "cell_type": "code",
   "execution_count": 19,
   "metadata": {},
   "outputs": [],
   "source": [
    "def approx_pi(n):\n",
    "    \n",
    "    s = 0\n",
    "    \n",
    "    for k in range(n+1):\n",
    "        s = s + ((-1) ** k) / (2 * k + 1)\n",
    "    \n",
    "    pi = 4 * s\n",
    "    \n",
    "    return pi"
   ]
  },
  {
   "cell_type": "markdown",
   "metadata": {},
   "source": [
    "Next, we compute the approximation error by comparing the result of the function against the value of $\\pi$ provided by Python:"
   ]
  },
  {
   "cell_type": "code",
   "execution_count": 20,
   "metadata": {},
   "outputs": [
    {
     "name": "stdout",
     "output_type": "stream",
     "text": [
      "0.009900747481198291\n",
      "0.0009990007497511222\n",
      "9.99900007414567e-05\n"
     ]
    }
   ],
   "source": [
    "import math\n",
    "\n",
    "for n in [100,1000,10000]:\n",
    "    print(approx_pi(n) - math.pi)"
   ]
  },
  {
   "cell_type": "markdown",
   "metadata": {},
   "source": [
    "## Exercise 9"
   ]
  },
  {
   "cell_type": "markdown",
   "metadata": {},
   "source": [
    "Consider the polynomial:\n",
    "$$\n",
    "p(x) = a_0 + a_1 x + a_2 x^2 + ... + a_n x^n = \\sum_{k=0}^n a_k x^k\n",
    "$$\n",
    "\n",
    "Write a **function** `p(x, coeff)` that takes $x$ and a list of coefficients $\\{a_0, a_1,...,a_n\\}$ as inputs and returns the value $p(x)$ defined above.\n",
    "\n",
    "Hint: you can use the function `enumerate()`."
   ]
  },
  {
   "cell_type": "markdown",
   "metadata": {},
   "source": [
    "### Solution"
   ]
  },
  {
   "cell_type": "markdown",
   "metadata": {},
   "source": [
    "Two solutions are suggested below. The first uses a standard for loop:"
   ]
  },
  {
   "cell_type": "code",
   "execution_count": 21,
   "metadata": {},
   "outputs": [],
   "source": [
    "def p1(x, coeff):\n",
    "    \n",
    "    p = 0\n",
    "    \n",
    "    for k, a in enumerate(coeff):\n",
    "        p = p + a * x ** k\n",
    "    \n",
    "    return p    "
   ]
  },
  {
   "cell_type": "code",
   "execution_count": 22,
   "metadata": {},
   "outputs": [
    {
     "name": "stdout",
     "output_type": "stream",
     "text": [
      "11\n"
     ]
    }
   ],
   "source": [
    "coeff = [1,2]\n",
    "\n",
    "print(p1(5,coeff))"
   ]
  },
  {
   "cell_type": "markdown",
   "metadata": {},
   "source": [
    "The second solution uses a generator expression inside a `sum()`. Since it stands on one line we can put it inside an anonymous function:"
   ]
  },
  {
   "cell_type": "code",
   "execution_count": 23,
   "metadata": {},
   "outputs": [],
   "source": [
    "p2 = lambda x, coeff: sum(a * x ** k for k,a in enumerate(coeff))"
   ]
  },
  {
   "cell_type": "code",
   "execution_count": 24,
   "metadata": {},
   "outputs": [
    {
     "name": "stdout",
     "output_type": "stream",
     "text": [
      "11\n"
     ]
    }
   ],
   "source": [
    "coeff = [1,2]\n",
    "\n",
    "print(p2(5,coeff))"
   ]
  }
 ],
 "metadata": {
  "kernelspec": {
   "display_name": "Python 3 (ipykernel)",
   "language": "python",
   "name": "python3"
  },
  "language_info": {
   "codemirror_mode": {
    "name": "ipython",
    "version": 3
   },
   "file_extension": ".py",
   "mimetype": "text/x-python",
   "name": "python",
   "nbconvert_exporter": "python",
   "pygments_lexer": "ipython3",
   "version": "3.11.5"
  }
 },
 "nbformat": 4,
 "nbformat_minor": 4
}
