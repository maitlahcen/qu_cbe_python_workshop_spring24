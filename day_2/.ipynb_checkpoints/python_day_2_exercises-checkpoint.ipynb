{
 "cells": [
  {
   "cell_type": "markdown",
   "metadata": {},
   "source": [
    "# QU CBE Python Workshop - Spring 2024\n",
    "## Main Scientific Libraries - Exercises\n",
    "**Mohammed Ait Lahcen, Department of Finance and Economics, College of Business and Economics, Qatar University**"
   ]
  },
  {
   "cell_type": "markdown",
   "metadata": {},
   "source": [
    "In this notebook I provide several exercises to apply some of the notions we learned during the second day."
   ]
  },
  {
   "cell_type": "markdown",
   "metadata": {},
   "source": [
    "## Exercise 1"
   ]
  },
  {
   "cell_type": "markdown",
   "metadata": {},
   "source": [
    "Create a Numpy array $A$ whose elements are the first 1'000 integers in backward order i.e. `A[0] = 999; A[1] = 998;` etc. \n",
    "\n",
    "Now, by slicing $A$ create an array $B$ such that\n",
    "* its first elements corresponds to the elements of $A$ ranging from 2 to 500 with an increment of 5\n",
    "* its last elements corresponds to all the other elements of $A$ (i.e. 501 onward) except for the last one."
   ]
  },
  {
   "cell_type": "code",
   "execution_count": null,
   "metadata": {},
   "outputs": [],
   "source": []
  },
  {
   "cell_type": "markdown",
   "metadata": {},
   "source": [
    "## Exercise 2"
   ]
  },
  {
   "cell_type": "markdown",
   "metadata": {},
   "source": [
    "Vectorize the following function by replacing Python loops with NumPy array operations:"
   ]
  },
  {
   "cell_type": "code",
   "execution_count": null,
   "metadata": {},
   "outputs": [],
   "source": [
    "def sumproducts(x, y):\n",
    "    \"\"\"\n",
    "    Return the sum of x[i] * y[j] for all pairs of indices i, j.\n",
    "\n",
    "    \"\"\"\n",
    "    result = 0\n",
    "\n",
    "    for i in range(len(x)):\n",
    "        for j in range(len(y)):\n",
    "            result += x[i] * y[j]\n",
    "\n",
    "    return result"
   ]
  },
  {
   "cell_type": "code",
   "execution_count": null,
   "metadata": {},
   "outputs": [],
   "source": []
  },
  {
   "cell_type": "markdown",
   "metadata": {},
   "source": [
    "## Exercise 3"
   ]
  },
  {
   "cell_type": "markdown",
   "metadata": {},
   "source": [
    "Create a function that takes as arguments a 1d array $x$ and parameters $\\mu$ and $\\sigma$ and returns the corresponding values of the one-dimensional Gaussian distribution function $g(x)$: \n",
    "$$\n",
    "g(x) = \\frac{1}{\\sigma \\sqrt{2 \\pi}} \\exp \\left(- \\frac{(x-\\mu)^2}{2\\sigma^2} \\right)\n",
    "$$\n",
    "\n",
    "Use a loop to plot $g(x)$ for different values of $\\mu$ and $\\sigma$ on the same figure."
   ]
  },
  {
   "cell_type": "code",
   "execution_count": null,
   "metadata": {},
   "outputs": [],
   "source": []
  }
 ],
 "metadata": {
  "kernelspec": {
   "display_name": "Python 3 (ipykernel)",
   "language": "python",
   "name": "python3"
  },
  "language_info": {
   "codemirror_mode": {
    "name": "ipython",
    "version": 3
   },
   "file_extension": ".py",
   "mimetype": "text/x-python",
   "name": "python",
   "nbconvert_exporter": "python",
   "pygments_lexer": "ipython3",
   "version": "3.11.5"
  }
 },
 "nbformat": 4,
 "nbformat_minor": 4
}
