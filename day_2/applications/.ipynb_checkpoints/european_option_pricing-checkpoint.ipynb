{
 "cells": [
  {
   "cell_type": "markdown",
   "metadata": {},
   "source": [
    "# QU CBE Python Workshop - Applications"
   ]
  },
  {
   "cell_type": "markdown",
   "metadata": {},
   "source": [
    "**Mohammed Ait Lahcen, Department of Finance and Economics, College of Business and Economics, Qatar University**"
   ]
  },
  {
   "cell_type": "markdown",
   "metadata": {},
   "source": [
    "## Pricing a European call option"
   ]
  },
  {
   "cell_type": "markdown",
   "metadata": {},
   "source": [
    "In this notebook we will price a European call option under the risk-neutral valuation. We will use 3 different methods and then compare the results. \n",
    "\n",
    "The price of the call option is just the present discounted value of the expected payoff:\n",
    "\n",
    "$$\n",
    "C = e^{-rT} \\mathbb E \\max\\{ S_T - K, 0 \\}\n",
    "$$\n",
    "\n",
    "where\n",
    "\n",
    "$ r $ is the risk free rate,  \n",
    "$ T $ is the expiry date,  \n",
    "$ K $ is the strike price and  \n",
    "$ \\{S_t\\} $ is the price of the underlying asset at time $ t $."
   ]
  },
  {
   "cell_type": "code",
   "execution_count": 3,
   "metadata": {},
   "outputs": [],
   "source": [
    "import numpy as np\n",
    "from scipy.stats import norm\n",
    "from scipy.integrate import quad"
   ]
  },
  {
   "cell_type": "markdown",
   "metadata": {},
   "source": [
    "We start by defining the initial stock price as well as other parameters:"
   ]
  },
  {
   "cell_type": "code",
   "execution_count": 4,
   "metadata": {},
   "outputs": [],
   "source": [
    "S_0 = 100  # initial stock price\n",
    "K = 105  # strike price\n",
    "T = 1  # time-to-maturity\n",
    "r = 0.05  # riskless short rate\n",
    "σ = 0.2  # volatility"
   ]
  },
  {
   "cell_type": "markdown",
   "metadata": {},
   "source": [
    "### Monte Carlo simulation"
   ]
  },
  {
   "cell_type": "markdown",
   "metadata": {},
   "source": [
    "We use monte carlo simulation to obtain the expected value of the asset price at maturity\n",
    "$$\n",
    "S_T = S_0 \\exp{\\left((r - \\frac{1}{2}\\sigma^2)T + \\sigma \\sqrt{T} z\\right)}\n",
    "$$\n",
    "given the normally distributed return $z$."
   ]
  },
  {
   "cell_type": "code",
   "execution_count": 5,
   "metadata": {},
   "outputs": [],
   "source": [
    "def monte_carlo_simulation(n, S_0, K, T, r, σ):\n",
    "\n",
    "    np.random.seed(123)  # fix random numbers\n",
    "    \n",
    "    z = np.random.standard_normal(n)  # draw n random numbers from the return distribution (standard normal)\n",
    "\n",
    "    S_T = S_0 * np.exp((r - 0.5 * σ ** 2) * T + σ * np.sqrt(T) * z)  # simulate n stock prices at maturity\n",
    "\n",
    "    payoff = np.maximum(S_T - K, 0)\n",
    "\n",
    "    call_price = np.exp(-r * T) * np.mean(payoff)  # calculate Monte Carlo estimator of the present discounted value of the expected payoff\n",
    "    \n",
    "    return call_price\n"
   ]
  },
  {
   "cell_type": "code",
   "execution_count": 6,
   "metadata": {},
   "outputs": [
    {
     "data": {
      "text/plain": [
       "8.033020725360096"
      ]
     },
     "execution_count": 6,
     "metadata": {},
     "output_type": "execute_result"
    }
   ],
   "source": [
    "n = 1000000 # number of simulations\n",
    "\n",
    "call_price_sim = monte_carlo_simulation(n, S_0, K, T, r, σ)\n",
    "\n",
    "call_price_sim"
   ]
  },
  {
   "cell_type": "markdown",
   "metadata": {},
   "source": [
    "### Quadrature"
   ]
  },
  {
   "cell_type": "markdown",
   "metadata": {},
   "source": [
    "Instead of using Monte Carlo simulation, we will use Gaussian quadrature to compute the expectation of the asset price at maturity:"
   ]
  },
  {
   "cell_type": "code",
   "execution_count": 7,
   "metadata": {},
   "outputs": [],
   "source": [
    "def integrand(z, S_0, K, T, r, σ):\n",
    "    \n",
    "    # Map  return z to S_T for payoff calculation\n",
    "    S_T = S_0 * np.exp((r - 0.5 * σ ** 2) * T + σ * np.sqrt(T) * z)\n",
    "    \n",
    "    # Calculate the payoff\n",
    "    payoff = np.maximum(S_T - K, 0)\n",
    "\n",
    "    return np.exp(-r * T) * payoff * norm.pdf(z)"
   ]
  },
  {
   "cell_type": "code",
   "execution_count": 8,
   "metadata": {},
   "outputs": [
    {
     "data": {
      "text/plain": [
       "8.021301532186943"
      ]
     },
     "execution_count": 8,
     "metadata": {},
     "output_type": "execute_result"
    }
   ],
   "source": [
    "call_price_quad, error = quad(integrand, -5, 5, args=(S_0, K, T, r, σ))\n",
    "\n",
    "call_price_quad"
   ]
  },
  {
   "cell_type": "markdown",
   "metadata": {},
   "source": [
    "### Black-Scholes formula"
   ]
  },
  {
   "cell_type": "markdown",
   "metadata": {},
   "source": [
    "Finally, we will use the standard Black-Scholes model which gives us a closed-form solution to compute the price of the call option:\n",
    "$$\n",
    "C = S_0 N(d_1) - K e^{-r T} N(d_2)\n",
    "$$\n",
    "where $N$ is the standard normal CDF and $d_1$ and $d_2$ are given by\n",
    "$$\n",
    "d_1 = \\frac{\\ln(\\frac{S_0}{K}) + (r + \\frac{\\sigma^2}{2})T}{\\sigma\\sqrt{T}}\n",
    "$$\n",
    "$$\n",
    "d_2 = d_1 - \\sigma\\sqrt{T}\n",
    "$$"
   ]
  },
  {
   "cell_type": "code",
   "execution_count": 9,
   "metadata": {},
   "outputs": [
    {
     "data": {
      "text/plain": [
       "8.021352235143176"
      ]
     },
     "execution_count": 9,
     "metadata": {},
     "output_type": "execute_result"
    }
   ],
   "source": [
    "def black_scholes(S_0, K, T, r, σ):\n",
    "\n",
    "    d1 = (np.log(S_0 / K) + (r + 0.5 * σ ** 2) * T) / (σ * np.sqrt(T))\n",
    "    \n",
    "    d2 = d1 - σ * np.sqrt(T)\n",
    "    \n",
    "    call_price = S_0 * norm.cdf(d1) - K * np.exp(-r * T) * norm.cdf(d2)\n",
    "    \n",
    "    return call_price\n",
    "\n",
    "call_price_bs = black_scholes(S_0, K, T, r, σ)\n",
    "\n",
    "call_price_bs"
   ]
  },
  {
   "cell_type": "code",
   "execution_count": 10,
   "metadata": {},
   "outputs": [
    {
     "name": "stdout",
     "output_type": "stream",
     "text": [
      "Monte Carlo call price: 8.0330\n",
      "Quadrature call price: 8.0213\n",
      "Black-Scholes call price: 8.0214\n"
     ]
    }
   ],
   "source": [
    "# print the results\n",
    "print(f'Monte Carlo call price: {call_price_sim:.4f}')\n",
    "print(f'Quadrature call price: {call_price_quad:.4f}')\n",
    "print(f'Black-Scholes call price: {call_price_bs:.4f}')"
   ]
  }
 ],
 "metadata": {
  "kernelspec": {
   "display_name": "Python 3 (ipykernel)",
   "language": "python",
   "name": "python3"
  },
  "language_info": {
   "codemirror_mode": {
    "name": "ipython",
    "version": 3
   },
   "file_extension": ".py",
   "mimetype": "text/x-python",
   "name": "python",
   "nbconvert_exporter": "python",
   "pygments_lexer": "ipython3",
   "version": "3.11.5"
  }
 },
 "nbformat": 4,
 "nbformat_minor": 4
}
