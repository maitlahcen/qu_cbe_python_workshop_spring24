{
 "cells": [
  {
   "cell_type": "markdown",
   "id": "1b1eb7ee-dd7c-4e1f-8a60-7f3f2077115c",
   "metadata": {},
   "source": [
    "# QU CBE Python Workshop - Introduction to Econometrics in Python"
   ]
  },
  {
   "cell_type": "markdown",
   "id": "238f1f34-051e-471f-8065-3c5336788d78",
   "metadata": {},
   "source": [
    "***Mohammed Ait Lahcen, Department of Finance and Economics, College of Business and Economics, Qatar University***"
   ]
  },
  {
   "cell_type": "markdown",
   "id": "1d40a238-f95e-4101-ac2e-03f97df56ea0",
   "metadata": {},
   "source": [
    "There are many libraries in Python which cover statistics and econometrics, for example:\n",
    "- `statsmodels`\n",
    "- `scikit_learn`\n",
    "- `linearmodels`\n",
    "- `PyMC3`\n",
    "\n",
    "In this tutorial we take a look at `statsmodels` and `linearmodels`. `statsmodels` is included in Anaconda but we need to manually install `linearmodels`. \n",
    "\n",
    "In the command line run `pip install linearmodels`."
   ]
  },
  {
   "cell_type": "code",
   "execution_count": 1,
   "id": "a33df02f-7e71-41a9-89c7-5fec3c696802",
   "metadata": {},
   "outputs": [],
   "source": [
    "# We start by importing pandas\n",
    "import pandas as pd\n",
    "import matplotlib.pyplot as plt\n",
    "import numpy as np\n",
    "import statsmodels.api as sm\n",
    "from linearmodels.panel import PanelOLS"
   ]
  },
  {
   "cell_type": "markdown",
   "id": "c8f7d040-8b5d-4065-8e95-8473930f352e",
   "metadata": {},
   "source": [
    "### Loading data\n",
    "\n",
    "We are going to use Penn World Table data available in the same folder."
   ]
  },
  {
   "cell_type": "code",
   "execution_count": 2,
   "id": "fc3d902c-ca5f-4e00-9a73-0111f2312cbc",
   "metadata": {},
   "outputs": [],
   "source": [
    "data = pd.read_excel('pwt1001.xlsx',sheet_name=2)"
   ]
  },
  {
   "cell_type": "code",
   "execution_count": 3,
   "id": "8ef77de8-1853-4cd7-ad0b-f75c769c399a",
   "metadata": {},
   "outputs": [
    {
     "data": {
      "text/plain": [
       "Index(['countrycode', 'country', 'currency_unit', 'year', 'rgdpe', 'rgdpo',\n",
       "       'pop', 'emp', 'avh', 'hc', 'ccon', 'cda', 'cgdpe', 'cgdpo', 'cn', 'ck',\n",
       "       'ctfp', 'cwtfp', 'rgdpna', 'rconna', 'rdana', 'rnna', 'rkna', 'rtfpna',\n",
       "       'rwtfpna', 'labsh', 'irr', 'delta', 'xr', 'pl_con', 'pl_da', 'pl_gdpo',\n",
       "       'i_cig', 'i_xm', 'i_xr', 'i_outlier', 'i_irr', 'cor_exp', 'statcap',\n",
       "       'csh_c', 'csh_i', 'csh_g', 'csh_x', 'csh_m', 'csh_r', 'pl_c', 'pl_i',\n",
       "       'pl_g', 'pl_x', 'pl_m', 'pl_n', 'pl_k'],\n",
       "      dtype='object')"
      ]
     },
     "execution_count": 3,
     "metadata": {},
     "output_type": "execute_result"
    }
   ],
   "source": [
    "# print the list of columns\n",
    "data.columns"
   ]
  },
  {
   "cell_type": "markdown",
   "id": "c5a986a6-536b-4390-9824-cdc917b5a710",
   "metadata": {},
   "source": [
    "We can also change the column date from string to datetime data type to make sure pandas recognizes its content as dates:"
   ]
  },
  {
   "cell_type": "markdown",
   "id": "041643ad-70ec-4eb6-b7d1-e9b3911d09a9",
   "metadata": {},
   "source": [
    "Let's create some variables of interest:"
   ]
  },
  {
   "cell_type": "code",
   "execution_count": 4,
   "id": "fb1d312b-8b13-41ef-95fa-5a826bd3f7ca",
   "metadata": {},
   "outputs": [],
   "source": [
    "data['rgdpe_pc'] = data['rgdpe'] / data['pop']  # real GDP per capita\n",
    "data['ln_rgdpe_pc'] = data['rgdpe_pc'].apply(np.log)  # ln of RGDP per capita\n",
    "data['ln_pop'] = data['pop'].apply(np.log)  # ln of population\n",
    "data['ln_ck'] = data['ck'].apply(np.log)  # ln of capital\n",
    "data['ln_ctfp'] = data['ctfp'].apply(np.log)  # ln of TFP"
   ]
  },
  {
   "cell_type": "markdown",
   "id": "ee40f573-938a-4943-aca3-5d2c8872669d",
   "metadata": {},
   "source": [
    "## OLS regression"
   ]
  },
  {
   "cell_type": "markdown",
   "id": "d4c5d80f-b239-44ca-b256-b089217e5162",
   "metadata": {},
   "source": [
    "We will use statsmodels' OLS (ordinary least squares) function to estimate a linear regression model. There are two ways of doing it. First the standard way:"
   ]
  },
  {
   "cell_type": "code",
   "execution_count": 5,
   "id": "1b9e1553-ebbf-47ad-ad83-ea6c73dc7b68",
   "metadata": {},
   "outputs": [],
   "source": [
    "y = data['ln_rgdpe_pc']\n",
    "x = sm.add_constant(data['ln_pop'])\n",
    "pooled_ols = sm.OLS(y,x,missing='drop')"
   ]
  },
  {
   "cell_type": "markdown",
   "id": "70c13d5b-8bea-4855-86ef-7b4d1cee8116",
   "metadata": {},
   "source": [
    "We then use .fit() to estimate the parameters"
   ]
  },
  {
   "cell_type": "code",
   "execution_count": 6,
   "id": "90ef5fd1-7854-4cda-8bd2-8c9c39c63421",
   "metadata": {},
   "outputs": [
    {
     "name": "stdout",
     "output_type": "stream",
     "text": [
      "                            OLS Regression Results                            \n",
      "==============================================================================\n",
      "Dep. Variable:            ln_rgdpe_pc   R-squared:                       0.035\n",
      "Model:                            OLS   Adj. R-squared:                  0.035\n",
      "Method:                 Least Squares   F-statistic:                     380.6\n",
      "Date:                Mon, 26 Feb 2024   Prob (F-statistic):           2.84e-83\n",
      "Time:                        00:18:01   Log-Likelihood:                -16628.\n",
      "No. Observations:               10399   AIC:                         3.326e+04\n",
      "Df Residuals:                   10397   BIC:                         3.327e+04\n",
      "Df Model:                           1                                         \n",
      "Covariance Type:            nonrobust                                         \n",
      "==============================================================================\n",
      "                 coef    std err          t      P>|t|      [0.025      0.975]\n",
      "------------------------------------------------------------------------------\n",
      "const          8.9485      0.015    613.001      0.000       8.920       8.977\n",
      "ln_pop        -0.1074      0.006    -19.508      0.000      -0.118      -0.097\n",
      "==============================================================================\n",
      "Omnibus:                      895.432   Durbin-Watson:                   0.057\n",
      "Prob(Omnibus):                  0.000   Jarque-Bera (JB):              306.170\n",
      "Skew:                           0.135   Prob(JB):                     3.28e-67\n",
      "Kurtosis:                       2.204   Cond. No.                         3.48\n",
      "==============================================================================\n",
      "\n",
      "Notes:\n",
      "[1] Standard Errors assume that the covariance matrix of the errors is correctly specified.\n"
     ]
    }
   ],
   "source": [
    "results = pooled_ols.fit()\n",
    "print(results.summary())"
   ]
  },
  {
   "cell_type": "markdown",
   "id": "8cb9c1f7-7cfb-42da-b3f4-74f9c1c4a14e",
   "metadata": {},
   "source": [
    "Or using the R-style formula API:"
   ]
  },
  {
   "cell_type": "code",
   "execution_count": 7,
   "id": "7402fb6e-7a0b-4911-bbcf-7f382af6cfe8",
   "metadata": {},
   "outputs": [],
   "source": [
    "import statsmodels.formula.api as smf\n",
    "\n",
    "pooled_ols = smf.ols(formula = 'ln_rgdpe_pc ~ ln_pop',data=data,missing='drop')"
   ]
  },
  {
   "cell_type": "code",
   "execution_count": 8,
   "id": "7797eab1-c265-42a3-a507-4ee6e051e51e",
   "metadata": {},
   "outputs": [
    {
     "name": "stdout",
     "output_type": "stream",
     "text": [
      "                            OLS Regression Results                            \n",
      "==============================================================================\n",
      "Dep. Variable:            ln_rgdpe_pc   R-squared:                       0.035\n",
      "Model:                            OLS   Adj. R-squared:                  0.035\n",
      "Method:                 Least Squares   F-statistic:                     380.6\n",
      "Date:                Mon, 26 Feb 2024   Prob (F-statistic):           2.84e-83\n",
      "Time:                        00:18:01   Log-Likelihood:                -16628.\n",
      "No. Observations:               10399   AIC:                         3.326e+04\n",
      "Df Residuals:                   10397   BIC:                         3.327e+04\n",
      "Df Model:                           1                                         \n",
      "Covariance Type:            nonrobust                                         \n",
      "==============================================================================\n",
      "                 coef    std err          t      P>|t|      [0.025      0.975]\n",
      "------------------------------------------------------------------------------\n",
      "Intercept      8.9485      0.015    613.001      0.000       8.920       8.977\n",
      "ln_pop        -0.1074      0.006    -19.508      0.000      -0.118      -0.097\n",
      "==============================================================================\n",
      "Omnibus:                      895.432   Durbin-Watson:                   0.057\n",
      "Prob(Omnibus):                  0.000   Jarque-Bera (JB):              306.170\n",
      "Skew:                           0.135   Prob(JB):                     3.28e-67\n",
      "Kurtosis:                       2.204   Cond. No.                         3.48\n",
      "==============================================================================\n",
      "\n",
      "Notes:\n",
      "[1] Standard Errors assume that the covariance matrix of the errors is correctly specified.\n"
     ]
    }
   ],
   "source": [
    "results = pooled_ols.fit()\n",
    "print(results.summary())"
   ]
  },
  {
   "cell_type": "markdown",
   "id": "72ca81db-be28-4d97-a50a-5cf9f34bc974",
   "metadata": {},
   "source": [
    "Let's add more variables to our regression:"
   ]
  },
  {
   "cell_type": "code",
   "execution_count": 9,
   "id": "15bfb97b-aa63-4756-a726-1fe8e5608d17",
   "metadata": {},
   "outputs": [],
   "source": [
    "y = data['ln_rgdpe_pc']\n",
    "x = sm.add_constant(data[['ln_pop','hc','ln_ck','ln_ctfp']])\n",
    "pooled_ols = sm.OLS(y,x,missing='drop')"
   ]
  },
  {
   "cell_type": "code",
   "execution_count": 10,
   "id": "95194ad7-92b6-41dd-8f8b-2f8bdb59827b",
   "metadata": {},
   "outputs": [
    {
     "name": "stdout",
     "output_type": "stream",
     "text": [
      "                            OLS Regression Results                            \n",
      "==============================================================================\n",
      "Dep. Variable:            ln_rgdpe_pc   R-squared:                       0.929\n",
      "Model:                            OLS   Adj. R-squared:                  0.928\n",
      "Method:                 Least Squares   F-statistic:                 2.178e+04\n",
      "Date:                Mon, 26 Feb 2024   Prob (F-statistic):               0.00\n",
      "Time:                        00:18:02   Log-Likelihood:                -1517.3\n",
      "No. Observations:                6407   AIC:                             3045.\n",
      "Df Residuals:                    6402   BIC:                             3078.\n",
      "Df Model:                           4                                         \n",
      "Covariance Type:                  HC3                                         \n",
      "==============================================================================\n",
      "                 coef    std err          z      P>|z|      [0.025      0.975]\n",
      "------------------------------------------------------------------------------\n",
      "const         10.9488      0.052    212.414      0.000      10.848      11.050\n",
      "ln_pop        -0.4180      0.006    -71.418      0.000      -0.430      -0.407\n",
      "hc             0.6345      0.007     87.255      0.000       0.620       0.649\n",
      "ln_ck          0.4063      0.005     79.816      0.000       0.396       0.416\n",
      "ln_ctfp        0.7577      0.012     62.002      0.000       0.734       0.782\n",
      "==============================================================================\n",
      "Omnibus:                       43.648   Durbin-Watson:                   0.122\n",
      "Prob(Omnibus):                  0.000   Jarque-Bera (JB):               48.089\n",
      "Skew:                           0.161   Prob(JB):                     3.61e-11\n",
      "Kurtosis:                       3.277   Cond. No.                         69.3\n",
      "==============================================================================\n",
      "\n",
      "Notes:\n",
      "[1] Standard Errors are heteroscedasticity robust (HC3)\n"
     ]
    }
   ],
   "source": [
    "results = pooled_ols.fit(cov_type='HC3')\n",
    "print(results.summary())"
   ]
  },
  {
   "cell_type": "markdown",
   "id": "3748ec6a-2dd7-464e-8d38-65d5b287058f",
   "metadata": {},
   "source": [
    "## Panel regression"
   ]
  },
  {
   "cell_type": "markdown",
   "id": "bf7d5d02-93c6-46a8-9eb6-5239bd71ce3a",
   "metadata": {},
   "source": [
    "To use do a panel regression, we need to first define indices for the data."
   ]
  },
  {
   "cell_type": "code",
   "execution_count": 11,
   "id": "ecc93524-ee1c-4396-ae26-b13e47f08b78",
   "metadata": {},
   "outputs": [],
   "source": [
    "data = data.set_index(['country','year'],verify_integrity=True) # verify that the multindex is unique"
   ]
  },
  {
   "cell_type": "code",
   "execution_count": 12,
   "id": "c9273fe4-2bdd-4b99-8249-08db98b3bcf5",
   "metadata": {},
   "outputs": [],
   "source": [
    "data.sort_index(level=['country','year'], ascending=[1, 1], inplace=True)"
   ]
  },
  {
   "cell_type": "markdown",
   "id": "3e044938-7ce3-4c82-8a4e-3ebeb52ed3a2",
   "metadata": {},
   "source": [
    "Let's do the same regression by adding country fixed effects. `PanelOLS` exploits the index structure we defined earlier so we don't need to specifiy which variables are entities and time dates."
   ]
  },
  {
   "cell_type": "code",
   "execution_count": 13,
   "id": "5faf0fa2-99cb-4e33-9a34-5852d8e0ca5d",
   "metadata": {},
   "outputs": [
    {
     "name": "stdout",
     "output_type": "stream",
     "text": [
      "                          PanelOLS Estimation Summary                           \n",
      "================================================================================\n",
      "Dep. Variable:            ln_rgdpe_pc   R-squared:                        0.9401\n",
      "Estimator:                   PanelOLS   R-squared (Between):              0.6894\n",
      "No. Observations:                6407   R-squared (Within):               0.9401\n",
      "Date:                Mon, Feb 26 2024   R-squared (Overall):              0.7346\n",
      "Time:                        00:18:02   Log-likelihood                    3895.1\n",
      "Cov. Estimator:             Clustered                                           \n",
      "                                        F-statistic:                   2.464e+04\n",
      "Entities:                         118   P-value                           0.0000\n",
      "Avg Obs:                       54.297   Distribution:                  F(4,6285)\n",
      "Min Obs:                       26.000                                           \n",
      "Max Obs:                       66.000   F-statistic (robust):             771.84\n",
      "                                        P-value                           0.0000\n",
      "Time periods:                      66   Distribution:                  F(4,6285)\n",
      "Avg Obs:                       97.076                                           \n",
      "Min Obs:                       46.000                                           \n",
      "Max Obs:                       118.00                                           \n",
      "                                                                                \n",
      "                             Parameter Estimates                              \n",
      "==============================================================================\n",
      "            Parameter  Std. Err.     T-stat    P-value    Lower CI    Upper CI\n",
      "------------------------------------------------------------------------------\n",
      "const          10.176     0.2040     49.890     0.0000      9.7762      10.576\n",
      "ln_pop        -0.2073     0.0482    -4.3034     0.0000     -0.3017     -0.1129\n",
      "hc             0.9176     0.0450     20.391     0.0000      0.8294      1.0058\n",
      "ln_ck          0.4592     0.0218     21.033     0.0000      0.4164      0.5020\n",
      "ln_ctfp        0.9070     0.0541     16.758     0.0000      0.8009      1.0131\n",
      "==============================================================================\n",
      "\n",
      "F-test for Poolability: 237.27\n",
      "P-value: 0.0000\n",
      "Distribution: F(117,6285)\n",
      "\n",
      "Included effects: Entity\n"
     ]
    },
    {
     "name": "stderr",
     "output_type": "stream",
     "text": [
      "C:\\Users\\ma19310\\AppData\\Local\\anaconda3\\Lib\\site-packages\\linearmodels\\panel\\model.py:1214: MissingValueWarning: \n",
      "Inputs contain missing values. Dropping rows with missing observations.\n",
      "  super().__init__(dependent, exog, weights=weights, check_rank=check_rank)\n"
     ]
    }
   ],
   "source": [
    "y = data['ln_rgdpe_pc']\n",
    "x = sm.add_constant(data[['ln_pop','hc','ln_ck','ln_ctfp']])\n",
    "model = PanelOLS(y, x, time_effects=0, entity_effects=1)\n",
    "results = model.fit(cov_type='clustered',cluster_entity=True)\n",
    "print(results)"
   ]
  }
 ],
 "metadata": {
  "kernelspec": {
   "display_name": "Python 3 (ipykernel)",
   "language": "python",
   "name": "python3"
  },
  "language_info": {
   "codemirror_mode": {
    "name": "ipython",
    "version": 3
   },
   "file_extension": ".py",
   "mimetype": "text/x-python",
   "name": "python",
   "nbconvert_exporter": "python",
   "pygments_lexer": "ipython3",
   "version": "3.11.5"
  }
 },
 "nbformat": 4,
 "nbformat_minor": 5
}
