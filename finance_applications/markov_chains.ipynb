{
 "cells": [
  {
   "cell_type": "markdown",
   "metadata": {},
   "source": [
    "# QU CBE Introduction to Python Workshop - Advanced Economic Applications"
   ]
  },
  {
   "cell_type": "markdown",
   "metadata": {},
   "source": [
    "**Mohammed Ait Lahcen, Department of Finance and Economics, College of Business and Economics, Qatar University**"
   ]
  },
  {
   "cell_type": "markdown",
   "metadata": {},
   "source": [
    "## Markov Chains"
   ]
  },
  {
   "cell_type": "code",
   "execution_count": 1,
   "metadata": {},
   "outputs": [],
   "source": [
    "import numpy as np\n",
    "from numba import njit\n",
    "from scipy import stats\n",
    "from scipy import optimize\n",
    "import matplotlib.pyplot as plt"
   ]
  },
  {
   "cell_type": "markdown",
   "metadata": {},
   "source": [
    "### Example"
   ]
  },
  {
   "cell_type": "markdown",
   "metadata": {},
   "source": [
    "Consider Hamilton's stochastic kernel (transition matrix) $p_H$ where $S = \\{NG,MR,SR\\}$, $NG$ corresponds to normal growth, $MR$ to mild recession and $SR$ to severe recession: "
   ]
  },
  {
   "cell_type": "code",
   "execution_count": 2,
   "metadata": {},
   "outputs": [
    {
     "data": {
      "text/plain": [
       "array([[0.971, 0.029, 0.   ],\n",
       "       [0.145, 0.778, 0.077],\n",
       "       [0.   , 0.508, 0.492]])"
      ]
     },
     "execution_count": 2,
     "metadata": {},
     "output_type": "execute_result"
    }
   ],
   "source": [
    "p_H = np.array([[0.971,0.029,0],[0.145,0.778,0.077],[0,0.508,0.492]])\n",
    "p_H"
   ]
  },
  {
   "cell_type": "code",
   "execution_count": 3,
   "metadata": {},
   "outputs": [
    {
     "data": {
      "text/plain": [
       "0.029"
      ]
     },
     "execution_count": 3,
     "metadata": {},
     "output_type": "execute_result"
    }
   ],
   "source": [
    "# For example probability of entering a mild recession given that the economy is in a normal growth state is\n",
    "p_H[0,1]"
   ]
  },
  {
   "cell_type": "markdown",
   "metadata": {},
   "source": [
    "### Sampling"
   ]
  },
  {
   "cell_type": "markdown",
   "metadata": {},
   "source": [
    "We would like to generate a sample path of the economy using $p_H$."
   ]
  },
  {
   "cell_type": "code",
   "execution_count": 4,
   "metadata": {},
   "outputs": [],
   "source": [
    "def sample(ϕ):\n",
    "    \"\"\"\n",
    "    Returns i with probability ϕ(i) where ϕ is the probability distribution (array)\n",
    "    \"\"\"\n",
    "        \n",
    "    a = 0\n",
    "    \n",
    "    U = np.random.uniform(0,1)  # Draws from Uniform\n",
    "    \n",
    "    for i in range(len(ϕ)):\n",
    "        \n",
    "        if a < U <= a + ϕ[i]:\n",
    "        \n",
    "            return i   # Inverse of the CDF (index of the state)\n",
    "        \n",
    "        else: a = a + ϕ[i]    # Goes up the CDF\n",
    "\n",
    "\n",
    "def sample_path(x,p,k):\n",
    "    \"\"\"\n",
    "    Takes initial state x and stochastic kernel p and generates a sample path of length k\n",
    "    \"\"\"\n",
    "    \n",
    "    path = np.empty(k, dtype=int)\n",
    "    \n",
    "    for i in range(k):\n",
    "        path[i] = x\n",
    "        x = sample(p[x])\n",
    "        \n",
    "    return path"
   ]
  },
  {
   "cell_type": "code",
   "execution_count": 5,
   "metadata": {},
   "outputs": [
    {
     "data": {
      "image/png": "[encoded data removed]",
      "text/plain": [
       "<Figure size 648x432 with 1 Axes>"
      ]
     },
     "metadata": {
      "needs_background": "light"
     },
     "output_type": "display_data"
    }
   ],
   "source": [
    "x_0 = sample(np.array([0,1,0], dtype=int))\n",
    "s = sample_path(x_0,p_H,30)\n",
    "\n",
    "plt.figure(figsize=(9,6))\n",
    "plt.plot(s)\n",
    "plt.show()\n",
    "plt.close()"
   ]
  },
  {
   "cell_type": "markdown",
   "metadata": {},
   "source": [
    "### Marginal distribution"
   ]
  },
  {
   "cell_type": "markdown",
   "metadata": {},
   "source": [
    "Two ways to calculate the marginal distribution of $X_{j+k}$ given the marginal distribution of $X_j$ and the stochastic kernel p:\n",
    "- Monte Carlo simulation\n",
    "- Recursion using Markov operator: $\\psi_{j+k} = \\psi_j M^k$ where $M$ is the Markov operator (i.e. transition matrix) and $\\psi_j$ is the marginal distribution of $X_j$"
   ]
  },
  {
   "cell_type": "code",
   "execution_count": 6,
   "metadata": {},
   "outputs": [],
   "source": [
    "def marginal_dist_mc(ψ,p,k,n):\n",
    "    \"\"\"\n",
    "    Returns the marginal (unconditional) distribution ψ_t+k of x_t+k given distribution ψ_t of initial state x_t\n",
    "    and stochastic kernel p using n samples (monte carlo simulation)\n",
    "    \"\"\"\n",
    "    \n",
    "    cross_section = np.empty(n)\n",
    "    \n",
    "    mdist = np.empty(len(p))\n",
    "    \n",
    "    for i in range(n):  # iterate over number of sample paths\n",
    "        \n",
    "        # generate a sample path of length k with initial state x\n",
    "        \n",
    "        x_tk = sample(ψ)\n",
    "        \n",
    "        for j in range(k):\n",
    "            x_tk = sample(p[x_tk])            \n",
    "        \n",
    "        cross_section[i] = x_tk  # extract the last element and store it\n",
    "        \n",
    "    for i in range(len(p)):\n",
    "        mdist[i] = np.mean(cross_section == i)  # calculate the frequency of each state\n",
    "        \n",
    "    return mdist"
   ]
  },
  {
   "cell_type": "code",
   "execution_count": 7,
   "metadata": {},
   "outputs": [],
   "source": [
    "p = np.array([[0.4,0.6],[0.2,0.8]])"
   ]
  },
  {
   "cell_type": "code",
   "execution_count": 8,
   "metadata": {},
   "outputs": [
    {
     "data": {
      "text/plain": [
       "array([0.2536, 0.7464])"
      ]
     },
     "execution_count": 8,
     "metadata": {},
     "output_type": "execute_result"
    }
   ],
   "source": [
    "# Calculate marginal distribution ψ_3 of X_{3} given ψ_0 and p above\n",
    "# Using Markov operator (matrix post-multiplication)\n",
    "ψ_0 = np.array([0.7,0.3])\n",
    "ψ_3 = ψ_0 @ (np.linalg.matrix_power(p, 3))\n",
    "ψ_3"
   ]
  },
  {
   "cell_type": "code",
   "execution_count": 9,
   "metadata": {},
   "outputs": [
    {
     "data": {
      "text/plain": [
       "array([0.2491, 0.7509])"
      ]
     },
     "execution_count": 9,
     "metadata": {},
     "output_type": "execute_result"
    }
   ],
   "source": [
    "# Using Monte Carlo\n",
    "marginal_dist_mc(ψ_0,p,3,10000)"
   ]
  },
  {
   "cell_type": "markdown",
   "metadata": {},
   "source": [
    "### Stationary distribution"
   ]
  },
  {
   "cell_type": "markdown",
   "metadata": {},
   "source": [
    "Under some conditions on $p$, this should converge to the unique stationary distribution $\\psi^*: \\psi^* = \\psi^* p $ as the sample becomes large"
   ]
  },
  {
   "cell_type": "code",
   "execution_count": 10,
   "metadata": {},
   "outputs": [
    {
     "data": {
      "text/plain": [
       "array([0.254, 0.746])"
      ]
     },
     "execution_count": 10,
     "metadata": {},
     "output_type": "execute_result"
    }
   ],
   "source": [
    "ψ_0 = np.array([1, 0])\n",
    "marginal_dist_mc(ψ_0,p,1000,1000)"
   ]
  },
  {
   "cell_type": "code",
   "execution_count": 11,
   "metadata": {},
   "outputs": [
    {
     "data": {
      "text/plain": [
       "array([0.808, 0.163, 0.029])"
      ]
     },
     "execution_count": 11,
     "metadata": {},
     "output_type": "execute_result"
    }
   ],
   "source": [
    "ψ_0 = np.array([1,0, 0])\n",
    "marginal_dist_mc(ψ_0,p_H,1000,1000)"
   ]
  },
  {
   "cell_type": "markdown",
   "metadata": {},
   "source": [
    "One can also calculate the stationary distribution by iterating over the Markov operator (the transition matrix)"
   ]
  },
  {
   "cell_type": "code",
   "execution_count": 12,
   "metadata": {},
   "outputs": [],
   "source": [
    "def solve_stationary_dist(ψ_init,p):\n",
    "    \"\"\"\n",
    "    Returns the stationary (marginal/unconditional) distribution of a Markov chain given initial distribution ψ \n",
    "    and transition matrix (stochastic kernel) p\n",
    "    \"\"\"\n",
    "    \n",
    "    tol = 1e-8\n",
    "    iter_count = 0\n",
    "    error = tol + 1\n",
    "    max_iter = 1000\n",
    "    \n",
    "    ψ = ψ_init\n",
    "    \n",
    "    while error > tol and iter_count < max_iter:\n",
    "        iter_count += 1\n",
    "        ψ_new = ψ @ p\n",
    "        error = np.max(np.abs(ψ_new - ψ))\n",
    "        ψ = ψ_new\n",
    "    \n",
    "    if iter_count == max_iter:\n",
    "        print('Failed to converge!!!')\n",
    "        \n",
    "    elif iter_count < max_iter:\n",
    "        print(f'Converged in {iter_count} iterations!')\n",
    "    \n",
    "    return ψ"
   ]
  },
  {
   "cell_type": "code",
   "execution_count": 13,
   "metadata": {},
   "outputs": [
    {
     "name": "stdout",
     "output_type": "stream",
     "text": [
      "Converged in 12 iterations!\n"
     ]
    },
    {
     "data": {
      "text/plain": [
       "array([0.25, 0.75])"
      ]
     },
     "execution_count": 13,
     "metadata": {},
     "output_type": "execute_result"
    }
   ],
   "source": [
    "solve_stationary_dist([0.1, 0.9],p)"
   ]
  },
  {
   "cell_type": "code",
   "execution_count": 14,
   "metadata": {},
   "outputs": [
    {
     "name": "stdout",
     "output_type": "stream",
     "text": [
      "Converged in 104 iterations!\n"
     ]
    },
    {
     "data": {
      "text/plain": [
       "array([0.81279995, 0.16256004, 0.02464001])"
      ]
     },
     "execution_count": 14,
     "metadata": {},
     "output_type": "execute_result"
    }
   ],
   "source": [
    "solve_stationary_dist([0.1, 0,0.9],p_H)"
   ]
  },
  {
   "cell_type": "markdown",
   "metadata": {},
   "source": [
    "A third option to solve for the unique stationary distribution is to solve the system of linear equations: $\\psi^* (\\mathcal{I} - p) = 0$. The problem is that 0 is always a solution which means the solver can get stuck there. It also doesn't garantee that $\\psi^*$ is a probability distribution!"
   ]
  },
  {
   "cell_type": "code",
   "execution_count": 15,
   "metadata": {},
   "outputs": [
    {
     "data": {
      "text/plain": [
       "array([0.25, 0.75])"
      ]
     },
     "execution_count": 15,
     "metadata": {},
     "output_type": "execute_result"
    }
   ],
   "source": [
    "ψ_star = optimize.root(lambda x: x @ (np.identity(p.shape[0]) - p),x0 = [0.1,0.9], method='df-sane').x\n",
    "ψ_star"
   ]
  },
  {
   "cell_type": "code",
   "execution_count": 16,
   "metadata": {},
   "outputs": [
    {
     "data": {
      "text/plain": [
       "array([0.8128 , 0.16256, 0.02464])"
      ]
     },
     "execution_count": 16,
     "metadata": {},
     "output_type": "execute_result"
    }
   ],
   "source": [
    "ψ_star = optimize.root(lambda x: x @ (np.identity(p_H.shape[0]) - p_H),x0 = [0.1, 0.1,0.8], method='df-sane').x\n",
    "ψ_star"
   ]
  },
  {
   "cell_type": "markdown",
   "metadata": {},
   "source": [
    "One can impose that the elements of $\\psi$ sum to 1 using:\n",
    "$$\n",
    "\\mathbb{1}_N = \\psi^* (\\mathbf{I}_N - p + \\mathbb{1}_{N \\times N}) \n",
    "$$\n",
    "which can be rewritten in the form $Ax = b$ as\n",
    "$$\n",
    "(\\mathbf{I}_N - p + \\mathbb{1}_{N \\times N})^T {\\psi^*}^T = \\mathbb{1}_N^T\n",
    "$$\n",
    "and solved as $x = A^{-1} b$"
   ]
  },
  {
   "cell_type": "code",
   "execution_count": 17,
   "metadata": {},
   "outputs": [
    {
     "data": {
      "text/plain": [
       "array([0.25, 0.75])"
      ]
     },
     "execution_count": 17,
     "metadata": {},
     "output_type": "execute_result"
    }
   ],
   "source": [
    "ψ_star = np.linalg.inv(np.transpose(np.identity(p.shape[0]) - p + np.ones(p.shape))) @ np.ones(p.shape[0]).T \n",
    "ψ_star"
   ]
  },
  {
   "cell_type": "code",
   "execution_count": 18,
   "metadata": {},
   "outputs": [
    {
     "data": {
      "text/plain": [
       "array([0.8128 , 0.16256, 0.02464])"
      ]
     },
     "execution_count": 18,
     "metadata": {},
     "output_type": "execute_result"
    }
   ],
   "source": [
    "ψ_star = np.linalg.inv(np.transpose(np.identity(p_H.shape[0]) - p_H + np.ones(p_H.shape))) @ np.ones(p_H.shape[0]).T \n",
    "ψ_star"
   ]
  },
  {
   "cell_type": "markdown",
   "metadata": {},
   "source": [
    "### Probability of a given path"
   ]
  },
  {
   "cell_type": "code",
   "execution_count": 19,
   "metadata": {},
   "outputs": [],
   "source": [
    "def path_prob(p,ψ,X):\n",
    "    \"\"\"\n",
    "    Returns the probability of a path X given kernel p and initial distribution ψ\n",
    "    \"\"\"\n",
    "    \n",
    "    prob = ψ[X[0]]\n",
    "    \n",
    "    for t in range(len(X) - 1):\n",
    "        prob = prob * p[X[t],X[t+1]]\n",
    "    \n",
    "    return prob"
   ]
  },
  {
   "cell_type": "code",
   "execution_count": 20,
   "metadata": {},
   "outputs": [
    {
     "data": {
      "text/plain": [
       "0.0008410000000000001"
      ]
     },
     "execution_count": 20,
     "metadata": {},
     "output_type": "execute_result"
    }
   ],
   "source": [
    "X = np.array([0,1,0]) # Path in the form of indices\n",
    "ψ_init = np.array([0.2,0.2,0.6]) # probability distribution of initial state\n",
    "path_prob(p_H, ψ_init,X)"
   ]
  },
  {
   "cell_type": "markdown",
   "metadata": {},
   "source": [
    "### Calculating expectations"
   ]
  },
  {
   "cell_type": "markdown",
   "metadata": {},
   "source": [
    "#### Case with one Markov chain"
   ]
  },
  {
   "cell_type": "code",
   "execution_count": 104,
   "metadata": {},
   "outputs": [],
   "source": [
    "# Let V be the value function that depends on two state variables u and y each with two states (high, low)\n",
    "V = np.array([[0.5,1],[0,0.75]])\n",
    "\n",
    "# Assume following stochastic kernel for exogenous state variable y\n",
    "P_y = np.array([[0.4,0.6],[0.2,0.8]])"
   ]
  },
  {
   "cell_type": "code",
   "execution_count": 106,
   "metadata": {},
   "outputs": [
    {
     "data": {
      "text/plain": [
       "array([[0.2 , 0.85],\n",
       "       [0.1 , 0.8 ]])"
      ]
     },
     "execution_count": 106,
     "metadata": {},
     "output_type": "execute_result"
    }
   ],
   "source": [
    "# Calculating the expectation of V using Markov operator notation\n",
    "EV = P_y @ V\n",
    "EV\n",
    "# Each row is the conditional expectation of V (conditional on y_t)"
   ]
  },
  {
   "cell_type": "code",
   "execution_count": 118,
   "metadata": {},
   "outputs": [
    {
     "data": {
      "text/plain": [
       "0.2"
      ]
     },
     "execution_count": 118,
     "metadata": {},
     "output_type": "execute_result"
    }
   ],
   "source": [
    "# check by calculating expected V(.,u_h) conditional on previous state being y_h\n",
    "P_y[0,0] * V[0,0] + P_y[0,1] * V[1,0]"
   ]
  },
  {
   "cell_type": "code",
   "execution_count": 112,
   "metadata": {},
   "outputs": [
    {
     "data": {
      "text/plain": [
       "array([0.4, 0.6])"
      ]
     },
     "execution_count": 112,
     "metadata": {},
     "output_type": "execute_result"
    }
   ],
   "source": [
    "# Another way of thinking about it is the following\n",
    "# Assume y_0 = y_h. This means marginal distribution of y_0 is \n",
    "ψ_0 = np.array([1,0])\n",
    "\n",
    "# Now we can calculate marginal distributon of y_1 given ψ_0 and kernel P_y\n",
    "ψ_1 =  ψ_0 @ P_y\n",
    "ψ_1"
   ]
  },
  {
   "cell_type": "code",
   "execution_count": 119,
   "metadata": {},
   "outputs": [
    {
     "data": {
      "text/plain": [
       "array([0.2 , 0.85])"
      ]
     },
     "execution_count": 119,
     "metadata": {},
     "output_type": "execute_result"
    }
   ],
   "source": [
    "# Now that we have the marginal distribution of y_1 conditional on y_0 = y_h we can calculate expectated V conditional on y_0 = y_h\n",
    "ψ_1 @ V\n",
    "\n",
    "# This is the first row of the expected V calculated above\n",
    "# Because V is also a function of u it's a vector"
   ]
  },
  {
   "cell_type": "markdown",
   "metadata": {},
   "source": [
    "#### Case with two Markov chains"
   ]
  },
  {
   "cell_type": "code",
   "execution_count": 22,
   "metadata": {},
   "outputs": [
    {
     "data": {
      "text/plain": [
       "array([[[0.3 , 0.7 ],\n",
       "        [0.  , 0.5 ]],\n",
       "\n",
       "       [[0.7 , 1.  ],\n",
       "        [0.25, 0.75]]])"
      ]
     },
     "execution_count": 22,
     "metadata": {},
     "output_type": "execute_result"
    }
   ],
   "source": [
    "# Let V be the value function that depends on three state variables i, y and u each with two states (high, low)\n",
    "# Both i and y are independent Markov processes\n",
    "# V(i,y,u) can be represented as a Tensor with shape (2x2x2)\n",
    "V = np.array([[[0.3,0.7],[0,0.5]],[[0.7,1],[0.25,0.75]]])\n",
    "V"
   ]
  },
  {
   "cell_type": "code",
   "execution_count": 23,
   "metadata": {},
   "outputs": [],
   "source": [
    "# Assume following stochastic kernels for exogenous state variables y and i\n",
    "P_i = np.array([[0.9,0.1],[0.3,0.7]])\n",
    "P_y = np.array([[0.6,0.4],[0.2,0.8]])"
   ]
  },
  {
   "cell_type": "markdown",
   "metadata": {},
   "source": [
    "We would like to calculate $\\mathbb{E}(V)$ which is going to have the same dimension as $V$. There are at least two possible ways:\n",
    "- Using a loop (use law of iterated expectations)\n",
    "- Using matrix (or tensor) multiplications with Markov operators\n",
    "\n",
    "Below we try the first way as it is more transparent and can be easily jitted using numba for higher performance."
   ]
  },
  {
   "cell_type": "code",
   "execution_count": 24,
   "metadata": {},
   "outputs": [
    {
     "data": {
      "text/plain": [
       "array([[[0.214, 0.648],\n",
       "        [0.088, 0.566]],\n",
       "\n",
       "       [[0.418, 0.816],\n",
       "        [0.256, 0.722]]])"
      ]
     },
     "execution_count": 24,
     "metadata": {},
     "output_type": "execute_result"
    }
   ],
   "source": [
    "# Using loop\n",
    "\n",
    "EV = np.empty_like(V)\n",
    "\n",
    "ni = len(P_i[:,0]) # number of states of i\n",
    "ny = len(P_y[:,0]) # number of states of y\n",
    "\n",
    "# Use law of iterated expectations (order does not matter)\n",
    "# Calculate expectation over distribution of y given i\n",
    "for j_i in range(ni):\n",
    "    \n",
    "    EV[j_i,:,:] = P_y @ V[j_i,:,:]\n",
    "\n",
    "# Next, calculate expectations over distribution of y\n",
    "for j_y in range(ny):\n",
    "    \n",
    "    EV[:,j_y,:] = P_i @ EV[:,j_y,:]\n",
    "    \n",
    "EV"
   ]
  },
  {
   "cell_type": "code",
   "execution_count": 25,
   "metadata": {},
   "outputs": [
    {
     "data": {
      "text/plain": [
       "0.21400000000000002"
      ]
     },
     "execution_count": 25,
     "metadata": {},
     "output_type": "execute_result"
    }
   ],
   "source": [
    "# Check by calculating expected V(.,.,u_h) conditional on previous state being y_h, i_h\n",
    "\n",
    "P_i[0,0] * (P_y[0,0] * V[0,0,0] + P_y[0,1] * V[0,1,0]) + P_i[0,1] * (P_y[0,0] * V[1,0,0] + P_y[0,1] * V[1,1,0])"
   ]
  },
  {
   "cell_type": "code",
   "execution_count": 26,
   "metadata": {},
   "outputs": [
    {
     "data": {
      "text/plain": [
       "0.5660000000000001"
      ]
     },
     "execution_count": 26,
     "metadata": {},
     "output_type": "execute_result"
    }
   ],
   "source": [
    "# Check by calculating expected V(.,.,u_l) conditional on previous state being i_h and y_l\n",
    "\n",
    "P_i[0,0] * (P_y[1,0] * V[0,0,1] + P_y[1,1] * V[0,1,1]) + P_i[0,1] * (P_y[1,0] * V[1,0,1] + P_y[1,1] * V[1,1,1])"
   ]
  }
 ],
 "metadata": {
  "kernelspec": {
   "display_name": "Python 3",
   "language": "python",
   "name": "python3"
  },
  "language_info": {
   "codemirror_mode": {
    "name": "ipython",
    "version": 3
   },
   "file_extension": ".py",
   "mimetype": "text/x-python",
   "name": "python",
   "nbconvert_exporter": "python",
   "pygments_lexer": "ipython3",
   "version": "3.8.8"
  }
 },
 "nbformat": 4,
 "nbformat_minor": 4
}
