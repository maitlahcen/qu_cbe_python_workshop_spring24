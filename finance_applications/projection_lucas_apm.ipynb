{
 "cells": [
  {
   "cell_type": "markdown",
   "metadata": {},
   "source": [
    "# QU CBE Introduction to Python Workshop - Advanced Economic Applications"
   ]
  },
  {
   "cell_type": "markdown",
   "metadata": {},
   "source": [
    "**Mohammed Ait Lahcen, Department of Finance and Economics, College of Business and Economics, Qatar University**"
   ]
  },
  {
   "cell_type": "markdown",
   "metadata": {},
   "source": [
    "## Solving the Lucas Asset Pricing Model with a simple projection algorithm"
   ]
  },
  {
   "cell_type": "markdown",
   "metadata": {},
   "source": [
    "In this notebook, I use a projection method to solve a simple version of the Lucas asset pricing model. \n",
    "\n",
    "The following code is a Python adaptation of Matlab code by [Wouter den Haan](http://www.wouterdenhaan.com/summercourse_essentials.html) at LSE."
   ]
  },
  {
   "cell_type": "code",
   "execution_count": 1,
   "metadata": {},
   "outputs": [],
   "source": [
    "# Computational imports\n",
    "import numpy as np\n",
    "from scipy import optimize as opt\n",
    "from numba import njit\n",
    "\n",
    "# Graphics imports\n",
    "import matplotlib.pyplot as plt"
   ]
  },
  {
   "cell_type": "markdown",
   "metadata": {},
   "source": [
    "### Model"
   ]
  },
  {
   "cell_type": "markdown",
   "metadata": {},
   "source": [
    "The model can be formulated as the following system of equations:\n",
    "$$\n",
    "\\begin{align}\n",
    "p_t &= \\beta \\mathbb{E}_t \\left[ \\left( \\frac{c_{t+1}}{c_t} \\right)^{-\\gamma} (d_{t+1} + p_{t+1}) \\right]\n",
    "\\\\\n",
    "c_t &= d_t\n",
    "\\\\\n",
    "d_t &= \\mu_d + \\rho_d d_{t-1} + \\varepsilon_t\n",
    "\\\\\n",
    "\\varepsilon_t &\\sim \\mathcal{N}(0,\\sigma^2)\n",
    "\\end{align}\n",
    "$$\n",
    "\n",
    "The only state variable is $d_t$. We can combine the first three equations to get:\n",
    "$$\n",
    "p_t = \\beta \\mathbb{E}_t \\left[ \\left( \\frac{\\mu_d + \\rho_d d_{t} + \\varepsilon_{t+1}}{d_t} \\right)^{-\\gamma} (\\mu_d + \\rho_d d_{t} + \\varepsilon_{t+1} + p_{t+1}) \\right]\n",
    "$$"
   ]
  },
  {
   "cell_type": "markdown",
   "metadata": {},
   "source": [
    "### Numerical solution"
   ]
  },
  {
   "cell_type": "markdown",
   "metadata": {},
   "source": [
    "The idea behind projection methods is to find a polynomial which approximates the policy function. In this problem, we want to approximate the price policy function mapping the state variable $d_t$ to the price of the asset $p_t$ with a nth-order polynomial:\n",
    "$$\n",
    "p_t = p_t(d_t) \\approx \\sum_{i=0}^n a_i d_t^i\n",
    "$$"
   ]
  },
  {
   "cell_type": "code",
   "execution_count": 2,
   "metadata": {},
   "outputs": [],
   "source": [
    "@njit\n",
    "def p_poly(a, x):\n",
    "    \"\"\"\n",
    "    Evaluates the price polynomial parameterized by vector of coefficients a at scalar x \n",
    "    \"\"\"\n",
    "    \n",
    "    p = 0\n",
    "    \n",
    "    for i in range(len(a)):\n",
    "        p = p + a[i] * x ** i\n",
    "    \n",
    "    return p "
   ]
  },
  {
   "cell_type": "markdown",
   "metadata": {},
   "source": [
    "#### Parameters"
   ]
  },
  {
   "cell_type": "code",
   "execution_count": 3,
   "metadata": {},
   "outputs": [],
   "source": [
    "# Setting up model parameters\n",
    "\n",
    "β = 0.9\n",
    "γ = 3 \n",
    "μ_d = 0.1 \n",
    "ρ_d = 0.9\n",
    "σ = 0.1"
   ]
  },
  {
   "cell_type": "markdown",
   "metadata": {},
   "source": [
    "#### Grid"
   ]
  },
  {
   "cell_type": "markdown",
   "metadata": {},
   "source": [
    "We construct a grid for $d_t$:"
   ]
  },
  {
   "cell_type": "code",
   "execution_count": 4,
   "metadata": {},
   "outputs": [],
   "source": [
    "d_mean = μ_d / (1 - ρ_d)  # AR(1) mean\n",
    "d_std  = σ / np.sqrt((1 - ρ_d**2))  # AR(1) std\n",
    "d_low  = d_mean - 3 * d_std  # lower bound               \n",
    "d_high = d_mean + 3 * d_std  # upper bound\n",
    "n_d = 100                # Number of grid points\n",
    "d_grid = np.linspace(d_low,d_high,n_d)"
   ]
  },
  {
   "cell_type": "markdown",
   "metadata": {},
   "source": [
    "#### Numerical Integration"
   ]
  },
  {
   "cell_type": "markdown",
   "metadata": {},
   "source": [
    "Our objective here is to approximate the expectation term using numerical integration and in particular Gauss-Hermite quadrature. \n",
    "\n",
    "We have for $x \\sim \\mathcal{N}(\\mu,\\sigma^2)$:\n",
    "$$\n",
    "\\mathbb{E}(h(x)) \\approx \\sum_{i=1}^{\\textit{gh}} \\left(\\frac{\\omega_i}{\\sqrt{\\pi}} h (\\mu + \\sigma \\sqrt{2}\\zeta_i) \\right)\n",
    "$$\n",
    "where $\\omega_i$ and $\\zeta_i$ are the Gauss-Hermite weights and nodes.\n",
    "\n",
    "Below, we set the GH weights and nodes:"
   ]
  },
  {
   "cell_type": "code",
   "execution_count": 5,
   "metadata": {},
   "outputs": [],
   "source": [
    "n_q = 5  # Number of nodes and weights for the Gauss-Hermite quadrature\n",
    "\n",
    "# Use the hermgauss function to get the nodes and weights for the Gauss-Hermite quadrature\n",
    "gh_quad = np.polynomial.hermite.hermgauss(n_q)"
   ]
  },
  {
   "cell_type": "markdown",
   "metadata": {},
   "source": [
    "One problem with the Gauss-Hermite quadrature is that some of the nodes are going to be outside of our grid, which means integration might add another layer of approximation errors. Increasing the grid to solve this issue would need bounds to be at around $\\pm 10$ standard deviations and hence requires a larger grid size to keep it fine enough where it matters."
   ]
  },
  {
   "cell_type": "markdown",
   "metadata": {},
   "source": [
    "#### Asset pricing equation error function"
   ]
  },
  {
   "cell_type": "code",
   "execution_count": 6,
   "metadata": {},
   "outputs": [],
   "source": [
    "@njit\n",
    "def errfunc(coef,grid,quad):\n",
    "    \"\"\"\n",
    "    Returns the error in the asset pricing equation for each point in the state space given the price policy function\n",
    "    \"\"\"\n",
    "    \n",
    "    # Extracting parameters for the quadrature\n",
    "    q_nodes, q_weights = quad\n",
    "    \n",
    "    # Initialize arrays\n",
    "    lhs  = np.zeros_like(grid)  \n",
    "    rhs  = np.zeros_like(grid)\n",
    "    temp = np.zeros_like(q_nodes)\n",
    "    \n",
    "    for i in range(grid.size):\n",
    "        d = grid[i]\n",
    "        \n",
    "        lhs[i] = p_poly(coef,d)  # Computes the price for d using polynomial\n",
    "        \n",
    "        for j in range(len(q_nodes)):  # Computes the RHS for every possible realization of the shock (i.e. at the nodes)\n",
    "            ε = q_nodes[j]\n",
    "            d_new = μ_d + ρ_d * d + σ * np.sqrt(2) * ε\n",
    "            p_new = p_poly(coef,d_new)\n",
    "            temp[j] = (q_weights[j] / np.sqrt(np.pi)) * β * (d_new / d) ** (-γ) * (d_new + p_new)\n",
    "            \n",
    "        rhs[i] = np.sum(temp)  # Expectation step\n",
    "    \n",
    "    ssr = np.linalg.norm(lhs - rhs,ord=2)  # takes the L2 norm of the errors\n",
    "    \n",
    "    return ssr            "
   ]
  },
  {
   "cell_type": "markdown",
   "metadata": {},
   "source": [
    "Now that we have everything in place, we can pass the error function to a minimization routine in order to solve for the coefficients that minimize the squared sume of Euler residuals."
   ]
  },
  {
   "cell_type": "markdown",
   "metadata": {},
   "source": [
    "#### Solving for the price function"
   ]
  },
  {
   "cell_type": "code",
   "execution_count": 7,
   "metadata": {},
   "outputs": [
    {
     "name": "stdout",
     "output_type": "stream",
     "text": [
      "     fun: 0.010529461889272888\n",
      "     jac: array([ 4.54054680e-06,  6.80878293e-06, -2.08232086e-06, -1.82562508e-05,\n",
      "       -5.44112409e-05, -1.29537424e-04])\n",
      " message: 'Optimization terminated successfully'\n",
      "    nfev: 313\n",
      "     nit: 41\n",
      "    njev: 41\n",
      "  status: 0\n",
      " success: True\n",
      "       x: array([-0.26110202,  2.40943058,  5.20039135,  4.86254729, -2.29602061,\n",
      "        0.4176451 ])\n"
     ]
    }
   ],
   "source": [
    "poly_order = 5  # Order of the approximating polynomial\n",
    "\n",
    "coef_init = np.zeros((poly_order+1))  # Set initial values for the coefficients\n",
    "\n",
    "# Find solution by minimizing the errors on the grid\n",
    "results = opt.minimize(errfunc,coef_init,args=(d_grid,gh_quad),method='SLSQP',tol=1e-12,options={'maxiter':1000})\n",
    "coef_opt = results.x\n",
    "print(results)"
   ]
  },
  {
   "cell_type": "code",
   "execution_count": 8,
   "metadata": {},
   "outputs": [
    {
     "data": {
      "image/png": "[encoded data removed]",
      "text/plain": [
       "<Figure size 648x432 with 1 Axes>"
      ]
     },
     "metadata": {
      "needs_background": "light"
     },
     "output_type": "display_data"
    }
   ],
   "source": [
    "plt.figure(figsize=(9,6))\n",
    "plt.plot(d_grid,[p_poly(coef_opt,d) for d in d_grid])\n",
    "plt.xlabel(r'Current dividend, $d_{t}$', fontsize=16)\n",
    "plt.ylabel(r'Asset price, $p_{t}$', fontsize=16)\n",
    "plt.show()\n",
    "plt.close()"
   ]
  },
  {
   "cell_type": "markdown",
   "metadata": {},
   "source": [
    "#### Measuring the risk premium"
   ]
  },
  {
   "cell_type": "markdown",
   "metadata": {},
   "source": [
    "The risk-free rate and the expected return are given by the following two equations:\n",
    "\n",
    "$$\n",
    "\\begin{align}\n",
    "1 &= \\left(1 + r_t^f \\right) \\beta \\mathbb{E}_t \\left[ \\left( \\frac{c_{t+1}}{c_t} \\right)^{-\\gamma}  \\right]\n",
    "\\\\\n",
    "r_{t+1} &= \\frac{d_{t+1} + p_{t+1}}{p_t} - 1\n",
    "\\end{align}\n",
    "$$\n",
    "\n",
    "We define the risk premium as the difference between the expected return and the risk-free rate:\n",
    "\n",
    "$$\n",
    "x_t = \\mathbb{E}(r_{t+1}) - r_t^f\n",
    "$$\n",
    "\n",
    "Since we already solved for an approximation of the asset price function we can use it to calculate $\\mathbb{E}(r_{t+1})$ and $x_t$ given $r_t^f$."
   ]
  },
  {
   "cell_type": "code",
   "execution_count": 9,
   "metadata": {},
   "outputs": [],
   "source": [
    "@njit\n",
    "def riskprem(coef,grid,quad):\n",
    "    \"\"\"\n",
    "    Returns the risk premium, risk free rate and expected return given price function\n",
    "    \"\"\"\n",
    "    \n",
    "    # Extracting parameters for the quadrature\n",
    "    q_nodes, q_weights = quad\n",
    "    \n",
    "    # Initialize arrays\n",
    "    Er  = np.zeros_like(grid)  # expected return array\n",
    "    rfr = np.zeros_like(grid)  # risk free rate array\n",
    "    temp1 = np.zeros_like(q_nodes)  # array to store xr for every ε before taking expectations\n",
    "    temp2 = np.zeros_like(q_nodes)  # array to store rfr for every ε before taking expectations\n",
    "    \n",
    "    # Computing expected return and risk free rate\n",
    "    for i in range(len(grid)):\n",
    "        d = grid[i]\n",
    "        \n",
    "        p = p_poly(coef,d)  # Computes the price for d_i\n",
    "        \n",
    "        for j in range(len(q_nodes)):  \n",
    "            ε = q_nodes[j]\n",
    "            d_new = μ_d + ρ_d * d + σ * np.sqrt(2) * ε\n",
    "            p_new = p_poly(coef,d_new)\n",
    "            # Computes the gross rate of return for every realisation of the shock\n",
    "            temp1[j] = (q_weights[j] / np.sqrt(np.pi)) * ((d_new + p_new) / p)\n",
    "            # Computes the gross risk free rate for every realisation of the shock\n",
    "            temp2[j] = (q_weights[j] / np.sqrt(np.pi)) * (β * (d_new / d) ** (-γ))\n",
    "        \n",
    "        Er[i] = np.sum(temp1) - 1\n",
    "        rfr[i] = 1 / np.sum(temp2) - 1\n",
    "        \n",
    "    rp = Er - rfr\n",
    "    \n",
    "    return Er, rfr, rp\n"
   ]
  },
  {
   "cell_type": "code",
   "execution_count": 10,
   "metadata": {},
   "outputs": [],
   "source": [
    "Er, rfr, rp = riskprem(coef_opt,d_grid,gh_quad)"
   ]
  },
  {
   "cell_type": "code",
   "execution_count": 11,
   "metadata": {},
   "outputs": [
    {
     "data": {
      "image/png": "[encoded data removed]",
      "text/plain": [
       "<Figure size 648x432 with 1 Axes>"
      ]
     },
     "metadata": {
      "needs_background": "light"
     },
     "output_type": "display_data"
    }
   ],
   "source": [
    "plt.figure(figsize=(9,6))\n",
    "plt.plot(d_grid, rfr,'-g',label=r'$r_t^f$')\n",
    "plt.plot(d_grid, Er,'-b',label=r'$\\mathbb{E}(r_{t+1})$')\n",
    "plt.plot(d_grid, rp,'-r',label=r'$x_t$')\n",
    "plt.legend(loc='best',fontsize=16)\n",
    "plt.xlabel(r'$d_{t}$', fontsize=16)\n",
    "plt.show()\n",
    "plt.close()"
   ]
  }
 ],
 "metadata": {
  "kernelspec": {
   "display_name": "Python 3",
   "language": "python",
   "name": "python3"
  },
  "language_info": {
   "codemirror_mode": {
    "name": "ipython",
    "version": 3
   },
   "file_extension": ".py",
   "mimetype": "text/x-python",
   "name": "python",
   "nbconvert_exporter": "python",
   "pygments_lexer": "ipython3",
   "version": "3.8.8"
  }
 },
 "nbformat": 4,
 "nbformat_minor": 4
}
